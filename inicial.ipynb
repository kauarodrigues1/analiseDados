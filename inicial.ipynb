{
 "cells": [
  {
   "cell_type": "markdown",
   "metadata": {},
   "source": [
    "# Python Insights - Analisando Dados com Python\n",
    "\n",
    "### Case - Cancelamento de Clientes\n",
    "\n",
    "Você foi contratado por uma empresa com mais de 800 mil clientes para um projeto de Dados. Recentemente a empresa percebeu que da sua base total de clientes, a maioria são clientes inativos, ou seja, que já cancelaram o serviço.\n",
    "\n",
    "Precisando melhorar seus resultados ela quer conseguir entender os principais motivos desses cancelamentos e quais as ações mais eficientes para reduzir esse número.\n",
    "\n",
    "Base de dados e arquivos: https://drive.google.com/drive/folders/1uDesZePdkhiraJmiyeZ-w5tfc8XsNYFZ?usp=drive_link"
   ]
  },
  {
   "cell_type": "markdown",
   "metadata": {},
   "source": [
    "1. passo 1: importar base de dados\n",
    "2. passo 2: vizualizar a base de dados\n",
    "  . entender quais informaçoes eu tenho disponivel\n",
    "  . procurar problemas da base de dados\n",
    "3. passo 3: corrigir os problemas\n",
    "4. passo 4: analise dos cancelamentos(quantos cancelaram, quantos nao e %)]\n",
    "5. passo 5: analise das causas dos cancelamentos dos clientes\n",
    "\n"
   ]
  },
  {
   "cell_type": "code",
   "execution_count": null,
   "metadata": {},
   "outputs": [],
   "source": [
    "# passo 1: importar base de dados\n",
    "#!pip install pandas numpy openpyxl nbformat ipykernel plotly\n",
    "import pandas as pd\n",
    "\n",
    "tabela = pd.read_csv('cancelamentos.csv')\n",
    "\n",
    "\n",
    "# passo 2: vizualizar a base de dados\n",
    "  # entender quais informaçoes eu tenho disponivel\n",
    "  # procurar problemas da base de dados\n",
    "\n",
    "# colunas inuteis - informação que não te ajuda, te atrapalha\n",
    "tabela = tabela.drop(columns=\"CustomerID\")\n",
    "display(tabela)\n"
   ]
  },
  {
   "cell_type": "code",
   "execution_count": null,
   "metadata": {},
   "outputs": [],
   "source": [
    "# passo 3: corrigir os problemas\n",
    "\n",
    "# informaçoes vazias ou no formato errado\n",
    "tabela = tabela.dropna() # NaN - informação vazia\n",
    "# tabela = tabela.drop_duplicates()\n",
    "display(tabela.info())"
   ]
  },
  {
   "cell_type": "code",
   "execution_count": null,
   "metadata": {},
   "outputs": [],
   "source": [
    "# passo 4: analise dos cancelamentos(quantos cancelaram, quantos nao e %)\n",
    "display(tabela[\"cancelou\"].value_counts())\n",
    "\n",
    "#em percentual = normalizado\n",
    "display(tabela[\"cancelou\"].value_counts(normalize=True).map(\"{:.1%}\".format))"
   ]
  },
  {
   "cell_type": "code",
   "execution_count": null,
   "metadata": {},
   "outputs": [],
   "source": [
    "# passo 5: analise das causas dos cancelamentos dos clientes\n",
    "import plotly.express as px \n",
    "\n",
    "#cria o grafico\n",
    "for coluna in tabela.columns:\n",
    "    grafico = px.histogram(tabela, x=coluna, color=\"cancelou\", text_auto=True)\n",
    "    grafico.show()\n",
    "    \n"
   ]
  },
  {
   "cell_type": "code",
   "execution_count": null,
   "metadata": {},
   "outputs": [],
   "source": [
    "# clientes do contrato mensal TODOS cancelam\n",
    "    # ofercer desconto nos planos anuais e trimestrais\n",
    "# clientes que ligam mais do que 4 vezes para o call center, cancelam\n",
    "    # criar um processo para resolver o problema do cliente em no máximo 3 ligações\n",
    "# clientes que atrasaram mais de 20 dias, cancelaram\n",
    "    # política de resolver atrasos em até 10 dias (equipe financeira)\n",
    "\n",
    "tabela = tabela[tabela[\"duracao_contrato\"]!=\"Monthly\"]\n",
    "tabela = tabela[tabela[\"ligacoes_callcenter\"]<=4]\n",
    "tabela = tabela[tabela[\"dias_atraso\"]<=20]\n",
    "\n",
    "display(tabela[\"cancelou\"].value_counts())\n",
    "# em percentual\n",
    "display(tabela[\"cancelou\"].value_counts(normalize=True))"
   ]
  }
 ],
 "metadata": {
  "kernelspec": {
   "display_name": "Python 3",
   "language": "python",
   "name": "python3"
  },
  "language_info": {
   "codemirror_mode": {
    "name": "ipython",
    "version": 3
   },
   "file_extension": ".py",
   "mimetype": "text/x-python",
   "name": "python",
   "nbconvert_exporter": "python",
   "pygments_lexer": "ipython3",
   "version": "3.12.2"
  },
  "orig_nbformat": 4
 },
 "nbformat": 4,
 "nbformat_minor": 2
}
